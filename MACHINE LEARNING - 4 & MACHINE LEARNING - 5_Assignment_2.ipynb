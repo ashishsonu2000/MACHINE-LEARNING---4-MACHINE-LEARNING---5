{
 "cells": [
  {
   "cell_type": "markdown",
   "metadata": {
    "ExecuteTime": {
     "end_time": "2018-09-22T18:51:56.750235Z",
     "start_time": "2018-09-22T18:51:56.742240Z"
    }
   },
   "source": [
    "#### Importing Necessary libraries"
   ]
  },
  {
   "cell_type": "code",
   "execution_count": 1,
   "metadata": {
    "ExecuteTime": {
     "end_time": "2018-09-25T11:54:01.615623Z",
     "start_time": "2018-09-25T11:54:00.411506Z"
    }
   },
   "outputs": [],
   "source": [
    "#### Importing necessary Libraries\n",
    "import sqlite3\n",
    "import pandas as pd\n",
    "from sklearn.tree import DecisionTreeRegressor\n",
    "from sklearn.linear_model import LinearRegression\n",
    "from sklearn.model_selection import train_test_split\n",
    "from sklearn.metrics import mean_squared_error\n",
    "from math import sqrt\n"
   ]
  },
  {
   "cell_type": "code",
   "execution_count": 2,
   "metadata": {
    "ExecuteTime": {
     "end_time": "2018-09-25T11:54:08.976080Z",
     "start_time": "2018-09-25T11:54:02.387714Z"
    }
   },
   "outputs": [],
   "source": [
    "# Create your connection.\n",
    "cnx = sqlite3.connect('database.sqlite')\n",
    "df = pd.read_sql_query(\"SELECT * FROM Player_Attributes\", cnx)"
   ]
  },
  {
   "cell_type": "code",
   "execution_count": 3,
   "metadata": {
    "ExecuteTime": {
     "end_time": "2018-09-25T11:54:09.048008Z",
     "start_time": "2018-09-25T11:54:08.976080Z"
    }
   },
   "outputs": [
    {
     "data": {
      "text/html": [
       "<div>\n",
       "<style scoped>\n",
       "    .dataframe tbody tr th:only-of-type {\n",
       "        vertical-align: middle;\n",
       "    }\n",
       "\n",
       "    .dataframe tbody tr th {\n",
       "        vertical-align: top;\n",
       "    }\n",
       "\n",
       "    .dataframe thead th {\n",
       "        text-align: right;\n",
       "    }\n",
       "</style>\n",
       "<table border=\"1\" class=\"dataframe\">\n",
       "  <thead>\n",
       "    <tr style=\"text-align: right;\">\n",
       "      <th></th>\n",
       "      <th>id</th>\n",
       "      <th>player_fifa_api_id</th>\n",
       "      <th>player_api_id</th>\n",
       "      <th>date</th>\n",
       "      <th>overall_rating</th>\n",
       "      <th>potential</th>\n",
       "      <th>preferred_foot</th>\n",
       "      <th>attacking_work_rate</th>\n",
       "      <th>defensive_work_rate</th>\n",
       "      <th>crossing</th>\n",
       "      <th>...</th>\n",
       "      <th>vision</th>\n",
       "      <th>penalties</th>\n",
       "      <th>marking</th>\n",
       "      <th>standing_tackle</th>\n",
       "      <th>sliding_tackle</th>\n",
       "      <th>gk_diving</th>\n",
       "      <th>gk_handling</th>\n",
       "      <th>gk_kicking</th>\n",
       "      <th>gk_positioning</th>\n",
       "      <th>gk_reflexes</th>\n",
       "    </tr>\n",
       "  </thead>\n",
       "  <tbody>\n",
       "    <tr>\n",
       "      <th>0</th>\n",
       "      <td>1</td>\n",
       "      <td>218353</td>\n",
       "      <td>505942</td>\n",
       "      <td>2016-02-18 00:00:00</td>\n",
       "      <td>67.0</td>\n",
       "      <td>71.0</td>\n",
       "      <td>right</td>\n",
       "      <td>medium</td>\n",
       "      <td>medium</td>\n",
       "      <td>49.0</td>\n",
       "      <td>...</td>\n",
       "      <td>54.0</td>\n",
       "      <td>48.0</td>\n",
       "      <td>65.0</td>\n",
       "      <td>69.0</td>\n",
       "      <td>69.0</td>\n",
       "      <td>6.0</td>\n",
       "      <td>11.0</td>\n",
       "      <td>10.0</td>\n",
       "      <td>8.0</td>\n",
       "      <td>8.0</td>\n",
       "    </tr>\n",
       "    <tr>\n",
       "      <th>1</th>\n",
       "      <td>2</td>\n",
       "      <td>218353</td>\n",
       "      <td>505942</td>\n",
       "      <td>2015-11-19 00:00:00</td>\n",
       "      <td>67.0</td>\n",
       "      <td>71.0</td>\n",
       "      <td>right</td>\n",
       "      <td>medium</td>\n",
       "      <td>medium</td>\n",
       "      <td>49.0</td>\n",
       "      <td>...</td>\n",
       "      <td>54.0</td>\n",
       "      <td>48.0</td>\n",
       "      <td>65.0</td>\n",
       "      <td>69.0</td>\n",
       "      <td>69.0</td>\n",
       "      <td>6.0</td>\n",
       "      <td>11.0</td>\n",
       "      <td>10.0</td>\n",
       "      <td>8.0</td>\n",
       "      <td>8.0</td>\n",
       "    </tr>\n",
       "    <tr>\n",
       "      <th>2</th>\n",
       "      <td>3</td>\n",
       "      <td>218353</td>\n",
       "      <td>505942</td>\n",
       "      <td>2015-09-21 00:00:00</td>\n",
       "      <td>62.0</td>\n",
       "      <td>66.0</td>\n",
       "      <td>right</td>\n",
       "      <td>medium</td>\n",
       "      <td>medium</td>\n",
       "      <td>49.0</td>\n",
       "      <td>...</td>\n",
       "      <td>54.0</td>\n",
       "      <td>48.0</td>\n",
       "      <td>65.0</td>\n",
       "      <td>66.0</td>\n",
       "      <td>69.0</td>\n",
       "      <td>6.0</td>\n",
       "      <td>11.0</td>\n",
       "      <td>10.0</td>\n",
       "      <td>8.0</td>\n",
       "      <td>8.0</td>\n",
       "    </tr>\n",
       "    <tr>\n",
       "      <th>3</th>\n",
       "      <td>4</td>\n",
       "      <td>218353</td>\n",
       "      <td>505942</td>\n",
       "      <td>2015-03-20 00:00:00</td>\n",
       "      <td>61.0</td>\n",
       "      <td>65.0</td>\n",
       "      <td>right</td>\n",
       "      <td>medium</td>\n",
       "      <td>medium</td>\n",
       "      <td>48.0</td>\n",
       "      <td>...</td>\n",
       "      <td>53.0</td>\n",
       "      <td>47.0</td>\n",
       "      <td>62.0</td>\n",
       "      <td>63.0</td>\n",
       "      <td>66.0</td>\n",
       "      <td>5.0</td>\n",
       "      <td>10.0</td>\n",
       "      <td>9.0</td>\n",
       "      <td>7.0</td>\n",
       "      <td>7.0</td>\n",
       "    </tr>\n",
       "    <tr>\n",
       "      <th>4</th>\n",
       "      <td>5</td>\n",
       "      <td>218353</td>\n",
       "      <td>505942</td>\n",
       "      <td>2007-02-22 00:00:00</td>\n",
       "      <td>61.0</td>\n",
       "      <td>65.0</td>\n",
       "      <td>right</td>\n",
       "      <td>medium</td>\n",
       "      <td>medium</td>\n",
       "      <td>48.0</td>\n",
       "      <td>...</td>\n",
       "      <td>53.0</td>\n",
       "      <td>47.0</td>\n",
       "      <td>62.0</td>\n",
       "      <td>63.0</td>\n",
       "      <td>66.0</td>\n",
       "      <td>5.0</td>\n",
       "      <td>10.0</td>\n",
       "      <td>9.0</td>\n",
       "      <td>7.0</td>\n",
       "      <td>7.0</td>\n",
       "    </tr>\n",
       "  </tbody>\n",
       "</table>\n",
       "<p>5 rows × 42 columns</p>\n",
       "</div>"
      ],
      "text/plain": [
       "   id  player_fifa_api_id  player_api_id                 date  overall_rating  \\\n",
       "0   1              218353         505942  2016-02-18 00:00:00            67.0   \n",
       "1   2              218353         505942  2015-11-19 00:00:00            67.0   \n",
       "2   3              218353         505942  2015-09-21 00:00:00            62.0   \n",
       "3   4              218353         505942  2015-03-20 00:00:00            61.0   \n",
       "4   5              218353         505942  2007-02-22 00:00:00            61.0   \n",
       "\n",
       "   potential preferred_foot attacking_work_rate defensive_work_rate  crossing  \\\n",
       "0       71.0          right              medium              medium      49.0   \n",
       "1       71.0          right              medium              medium      49.0   \n",
       "2       66.0          right              medium              medium      49.0   \n",
       "3       65.0          right              medium              medium      48.0   \n",
       "4       65.0          right              medium              medium      48.0   \n",
       "\n",
       "   ...  vision  penalties  marking  standing_tackle  sliding_tackle  \\\n",
       "0  ...    54.0       48.0     65.0             69.0            69.0   \n",
       "1  ...    54.0       48.0     65.0             69.0            69.0   \n",
       "2  ...    54.0       48.0     65.0             66.0            69.0   \n",
       "3  ...    53.0       47.0     62.0             63.0            66.0   \n",
       "4  ...    53.0       47.0     62.0             63.0            66.0   \n",
       "\n",
       "   gk_diving  gk_handling  gk_kicking  gk_positioning  gk_reflexes  \n",
       "0        6.0         11.0        10.0             8.0          8.0  \n",
       "1        6.0         11.0        10.0             8.0          8.0  \n",
       "2        6.0         11.0        10.0             8.0          8.0  \n",
       "3        5.0         10.0         9.0             7.0          7.0  \n",
       "4        5.0         10.0         9.0             7.0          7.0  \n",
       "\n",
       "[5 rows x 42 columns]"
      ]
     },
     "execution_count": 3,
     "metadata": {},
     "output_type": "execute_result"
    }
   ],
   "source": [
    "df.head()"
   ]
  },
  {
   "cell_type": "code",
   "execution_count": 4,
   "metadata": {
    "ExecuteTime": {
     "end_time": "2018-09-25T11:54:09.855808Z",
     "start_time": "2018-09-25T11:54:09.847811Z"
    }
   },
   "outputs": [
    {
     "data": {
      "text/plain": [
       "Index(['id', 'player_fifa_api_id', 'player_api_id', 'date', 'overall_rating',\n",
       "       'potential', 'preferred_foot', 'attacking_work_rate',\n",
       "       'defensive_work_rate', 'crossing', 'finishing', 'heading_accuracy',\n",
       "       'short_passing', 'volleys', 'dribbling', 'curve', 'free_kick_accuracy',\n",
       "       'long_passing', 'ball_control', 'acceleration', 'sprint_speed',\n",
       "       'agility', 'reactions', 'balance', 'shot_power', 'jumping', 'stamina',\n",
       "       'strength', 'long_shots', 'aggression', 'interceptions', 'positioning',\n",
       "       'vision', 'penalties', 'marking', 'standing_tackle', 'sliding_tackle',\n",
       "       'gk_diving', 'gk_handling', 'gk_kicking', 'gk_positioning',\n",
       "       'gk_reflexes'],\n",
       "      dtype='object')"
      ]
     },
     "execution_count": 4,
     "metadata": {},
     "output_type": "execute_result"
    }
   ],
   "source": [
    "df.columns"
   ]
  },
  {
   "cell_type": "code",
   "execution_count": 5,
   "metadata": {
    "ExecuteTime": {
     "end_time": "2018-09-25T11:54:10.532787Z",
     "start_time": "2018-09-25T11:54:10.240860Z"
    }
   },
   "outputs": [
    {
     "name": "stdout",
     "output_type": "stream",
     "text": [
      "<class 'pandas.core.frame.DataFrame'>\n",
      "RangeIndex: 183978 entries, 0 to 183977\n",
      "Data columns (total 42 columns):\n",
      "id                     183978 non-null int64\n",
      "player_fifa_api_id     183978 non-null int64\n",
      "player_api_id          183978 non-null int64\n",
      "date                   183978 non-null object\n",
      "overall_rating         183142 non-null float64\n",
      "potential              183142 non-null float64\n",
      "preferred_foot         183142 non-null object\n",
      "attacking_work_rate    180748 non-null object\n",
      "defensive_work_rate    183142 non-null object\n",
      "crossing               183142 non-null float64\n",
      "finishing              183142 non-null float64\n",
      "heading_accuracy       183142 non-null float64\n",
      "short_passing          183142 non-null float64\n",
      "volleys                181265 non-null float64\n",
      "dribbling              183142 non-null float64\n",
      "curve                  181265 non-null float64\n",
      "free_kick_accuracy     183142 non-null float64\n",
      "long_passing           183142 non-null float64\n",
      "ball_control           183142 non-null float64\n",
      "acceleration           183142 non-null float64\n",
      "sprint_speed           183142 non-null float64\n",
      "agility                181265 non-null float64\n",
      "reactions              183142 non-null float64\n",
      "balance                181265 non-null float64\n",
      "shot_power             183142 non-null float64\n",
      "jumping                181265 non-null float64\n",
      "stamina                183142 non-null float64\n",
      "strength               183142 non-null float64\n",
      "long_shots             183142 non-null float64\n",
      "aggression             183142 non-null float64\n",
      "interceptions          183142 non-null float64\n",
      "positioning            183142 non-null float64\n",
      "vision                 181265 non-null float64\n",
      "penalties              183142 non-null float64\n",
      "marking                183142 non-null float64\n",
      "standing_tackle        183142 non-null float64\n",
      "sliding_tackle         181265 non-null float64\n",
      "gk_diving              183142 non-null float64\n",
      "gk_handling            183142 non-null float64\n",
      "gk_kicking             183142 non-null float64\n",
      "gk_positioning         183142 non-null float64\n",
      "gk_reflexes            183142 non-null float64\n",
      "dtypes: float64(35), int64(3), object(4)\n",
      "memory usage: 59.0+ MB\n"
     ]
    }
   ],
   "source": [
    "df.info()"
   ]
  },
  {
   "cell_type": "markdown",
   "metadata": {},
   "source": [
    "We can see there are some objects in the dataset.\n",
    "\n",
    "Also non necessary features in the dataset"
   ]
  },
  {
   "cell_type": "code",
   "execution_count": 6,
   "metadata": {
    "ExecuteTime": {
     "end_time": "2018-09-25T11:54:12.241007Z",
     "start_time": "2018-09-25T11:54:11.092648Z"
    }
   },
   "outputs": [
    {
     "data": {
      "text/html": [
       "<div>\n",
       "<style scoped>\n",
       "    .dataframe tbody tr th:only-of-type {\n",
       "        vertical-align: middle;\n",
       "    }\n",
       "\n",
       "    .dataframe tbody tr th {\n",
       "        vertical-align: top;\n",
       "    }\n",
       "\n",
       "    .dataframe thead th {\n",
       "        text-align: right;\n",
       "    }\n",
       "</style>\n",
       "<table border=\"1\" class=\"dataframe\">\n",
       "  <thead>\n",
       "    <tr style=\"text-align: right;\">\n",
       "      <th></th>\n",
       "      <th>id</th>\n",
       "      <th>player_fifa_api_id</th>\n",
       "      <th>player_api_id</th>\n",
       "      <th>date</th>\n",
       "      <th>overall_rating</th>\n",
       "      <th>potential</th>\n",
       "      <th>preferred_foot</th>\n",
       "      <th>attacking_work_rate</th>\n",
       "      <th>defensive_work_rate</th>\n",
       "      <th>crossing</th>\n",
       "      <th>...</th>\n",
       "      <th>vision</th>\n",
       "      <th>penalties</th>\n",
       "      <th>marking</th>\n",
       "      <th>standing_tackle</th>\n",
       "      <th>sliding_tackle</th>\n",
       "      <th>gk_diving</th>\n",
       "      <th>gk_handling</th>\n",
       "      <th>gk_kicking</th>\n",
       "      <th>gk_positioning</th>\n",
       "      <th>gk_reflexes</th>\n",
       "    </tr>\n",
       "  </thead>\n",
       "  <tbody>\n",
       "    <tr>\n",
       "      <th>count</th>\n",
       "      <td>183978.00000</td>\n",
       "      <td>183978.000000</td>\n",
       "      <td>183978.000000</td>\n",
       "      <td>183978</td>\n",
       "      <td>183142.000000</td>\n",
       "      <td>183142.000000</td>\n",
       "      <td>183142</td>\n",
       "      <td>180748</td>\n",
       "      <td>183142</td>\n",
       "      <td>183142.000000</td>\n",
       "      <td>...</td>\n",
       "      <td>181265.000000</td>\n",
       "      <td>183142.000000</td>\n",
       "      <td>183142.000000</td>\n",
       "      <td>183142.000000</td>\n",
       "      <td>181265.000000</td>\n",
       "      <td>183142.000000</td>\n",
       "      <td>183142.000000</td>\n",
       "      <td>183142.000000</td>\n",
       "      <td>183142.000000</td>\n",
       "      <td>183142.000000</td>\n",
       "    </tr>\n",
       "    <tr>\n",
       "      <th>unique</th>\n",
       "      <td>NaN</td>\n",
       "      <td>NaN</td>\n",
       "      <td>NaN</td>\n",
       "      <td>197</td>\n",
       "      <td>NaN</td>\n",
       "      <td>NaN</td>\n",
       "      <td>2</td>\n",
       "      <td>8</td>\n",
       "      <td>19</td>\n",
       "      <td>NaN</td>\n",
       "      <td>...</td>\n",
       "      <td>NaN</td>\n",
       "      <td>NaN</td>\n",
       "      <td>NaN</td>\n",
       "      <td>NaN</td>\n",
       "      <td>NaN</td>\n",
       "      <td>NaN</td>\n",
       "      <td>NaN</td>\n",
       "      <td>NaN</td>\n",
       "      <td>NaN</td>\n",
       "      <td>NaN</td>\n",
       "    </tr>\n",
       "    <tr>\n",
       "      <th>top</th>\n",
       "      <td>NaN</td>\n",
       "      <td>NaN</td>\n",
       "      <td>NaN</td>\n",
       "      <td>2007-02-22 00:00:00</td>\n",
       "      <td>NaN</td>\n",
       "      <td>NaN</td>\n",
       "      <td>right</td>\n",
       "      <td>medium</td>\n",
       "      <td>medium</td>\n",
       "      <td>NaN</td>\n",
       "      <td>...</td>\n",
       "      <td>NaN</td>\n",
       "      <td>NaN</td>\n",
       "      <td>NaN</td>\n",
       "      <td>NaN</td>\n",
       "      <td>NaN</td>\n",
       "      <td>NaN</td>\n",
       "      <td>NaN</td>\n",
       "      <td>NaN</td>\n",
       "      <td>NaN</td>\n",
       "      <td>NaN</td>\n",
       "    </tr>\n",
       "    <tr>\n",
       "      <th>freq</th>\n",
       "      <td>NaN</td>\n",
       "      <td>NaN</td>\n",
       "      <td>NaN</td>\n",
       "      <td>11794</td>\n",
       "      <td>NaN</td>\n",
       "      <td>NaN</td>\n",
       "      <td>138409</td>\n",
       "      <td>125070</td>\n",
       "      <td>130846</td>\n",
       "      <td>NaN</td>\n",
       "      <td>...</td>\n",
       "      <td>NaN</td>\n",
       "      <td>NaN</td>\n",
       "      <td>NaN</td>\n",
       "      <td>NaN</td>\n",
       "      <td>NaN</td>\n",
       "      <td>NaN</td>\n",
       "      <td>NaN</td>\n",
       "      <td>NaN</td>\n",
       "      <td>NaN</td>\n",
       "      <td>NaN</td>\n",
       "    </tr>\n",
       "    <tr>\n",
       "      <th>mean</th>\n",
       "      <td>91989.50000</td>\n",
       "      <td>165671.524291</td>\n",
       "      <td>135900.617324</td>\n",
       "      <td>NaN</td>\n",
       "      <td>68.600015</td>\n",
       "      <td>73.460353</td>\n",
       "      <td>NaN</td>\n",
       "      <td>NaN</td>\n",
       "      <td>NaN</td>\n",
       "      <td>55.086883</td>\n",
       "      <td>...</td>\n",
       "      <td>57.873550</td>\n",
       "      <td>55.003986</td>\n",
       "      <td>46.772242</td>\n",
       "      <td>50.351257</td>\n",
       "      <td>48.001462</td>\n",
       "      <td>14.704393</td>\n",
       "      <td>16.063612</td>\n",
       "      <td>20.998362</td>\n",
       "      <td>16.132154</td>\n",
       "      <td>16.441439</td>\n",
       "    </tr>\n",
       "    <tr>\n",
       "      <th>std</th>\n",
       "      <td>53110.01825</td>\n",
       "      <td>53851.094769</td>\n",
       "      <td>136927.840510</td>\n",
       "      <td>NaN</td>\n",
       "      <td>7.041139</td>\n",
       "      <td>6.592271</td>\n",
       "      <td>NaN</td>\n",
       "      <td>NaN</td>\n",
       "      <td>NaN</td>\n",
       "      <td>17.242135</td>\n",
       "      <td>...</td>\n",
       "      <td>15.144086</td>\n",
       "      <td>15.546519</td>\n",
       "      <td>21.227667</td>\n",
       "      <td>21.483706</td>\n",
       "      <td>21.598778</td>\n",
       "      <td>16.865467</td>\n",
       "      <td>15.867382</td>\n",
       "      <td>21.452980</td>\n",
       "      <td>16.099175</td>\n",
       "      <td>17.198155</td>\n",
       "    </tr>\n",
       "    <tr>\n",
       "      <th>min</th>\n",
       "      <td>1.00000</td>\n",
       "      <td>2.000000</td>\n",
       "      <td>2625.000000</td>\n",
       "      <td>NaN</td>\n",
       "      <td>33.000000</td>\n",
       "      <td>39.000000</td>\n",
       "      <td>NaN</td>\n",
       "      <td>NaN</td>\n",
       "      <td>NaN</td>\n",
       "      <td>1.000000</td>\n",
       "      <td>...</td>\n",
       "      <td>1.000000</td>\n",
       "      <td>2.000000</td>\n",
       "      <td>1.000000</td>\n",
       "      <td>1.000000</td>\n",
       "      <td>2.000000</td>\n",
       "      <td>1.000000</td>\n",
       "      <td>1.000000</td>\n",
       "      <td>1.000000</td>\n",
       "      <td>1.000000</td>\n",
       "      <td>1.000000</td>\n",
       "    </tr>\n",
       "    <tr>\n",
       "      <th>25%</th>\n",
       "      <td>45995.25000</td>\n",
       "      <td>155798.000000</td>\n",
       "      <td>34763.000000</td>\n",
       "      <td>NaN</td>\n",
       "      <td>64.000000</td>\n",
       "      <td>69.000000</td>\n",
       "      <td>NaN</td>\n",
       "      <td>NaN</td>\n",
       "      <td>NaN</td>\n",
       "      <td>45.000000</td>\n",
       "      <td>...</td>\n",
       "      <td>49.000000</td>\n",
       "      <td>45.000000</td>\n",
       "      <td>25.000000</td>\n",
       "      <td>29.000000</td>\n",
       "      <td>25.000000</td>\n",
       "      <td>7.000000</td>\n",
       "      <td>8.000000</td>\n",
       "      <td>8.000000</td>\n",
       "      <td>8.000000</td>\n",
       "      <td>8.000000</td>\n",
       "    </tr>\n",
       "    <tr>\n",
       "      <th>50%</th>\n",
       "      <td>91989.50000</td>\n",
       "      <td>183488.000000</td>\n",
       "      <td>77741.000000</td>\n",
       "      <td>NaN</td>\n",
       "      <td>69.000000</td>\n",
       "      <td>74.000000</td>\n",
       "      <td>NaN</td>\n",
       "      <td>NaN</td>\n",
       "      <td>NaN</td>\n",
       "      <td>59.000000</td>\n",
       "      <td>...</td>\n",
       "      <td>60.000000</td>\n",
       "      <td>57.000000</td>\n",
       "      <td>50.000000</td>\n",
       "      <td>56.000000</td>\n",
       "      <td>53.000000</td>\n",
       "      <td>10.000000</td>\n",
       "      <td>11.000000</td>\n",
       "      <td>12.000000</td>\n",
       "      <td>11.000000</td>\n",
       "      <td>11.000000</td>\n",
       "    </tr>\n",
       "    <tr>\n",
       "      <th>75%</th>\n",
       "      <td>137983.75000</td>\n",
       "      <td>199848.000000</td>\n",
       "      <td>191080.000000</td>\n",
       "      <td>NaN</td>\n",
       "      <td>73.000000</td>\n",
       "      <td>78.000000</td>\n",
       "      <td>NaN</td>\n",
       "      <td>NaN</td>\n",
       "      <td>NaN</td>\n",
       "      <td>68.000000</td>\n",
       "      <td>...</td>\n",
       "      <td>69.000000</td>\n",
       "      <td>67.000000</td>\n",
       "      <td>66.000000</td>\n",
       "      <td>69.000000</td>\n",
       "      <td>67.000000</td>\n",
       "      <td>13.000000</td>\n",
       "      <td>15.000000</td>\n",
       "      <td>15.000000</td>\n",
       "      <td>15.000000</td>\n",
       "      <td>15.000000</td>\n",
       "    </tr>\n",
       "    <tr>\n",
       "      <th>max</th>\n",
       "      <td>183978.00000</td>\n",
       "      <td>234141.000000</td>\n",
       "      <td>750584.000000</td>\n",
       "      <td>NaN</td>\n",
       "      <td>94.000000</td>\n",
       "      <td>97.000000</td>\n",
       "      <td>NaN</td>\n",
       "      <td>NaN</td>\n",
       "      <td>NaN</td>\n",
       "      <td>95.000000</td>\n",
       "      <td>...</td>\n",
       "      <td>97.000000</td>\n",
       "      <td>96.000000</td>\n",
       "      <td>96.000000</td>\n",
       "      <td>95.000000</td>\n",
       "      <td>95.000000</td>\n",
       "      <td>94.000000</td>\n",
       "      <td>93.000000</td>\n",
       "      <td>97.000000</td>\n",
       "      <td>96.000000</td>\n",
       "      <td>96.000000</td>\n",
       "    </tr>\n",
       "  </tbody>\n",
       "</table>\n",
       "<p>11 rows × 42 columns</p>\n",
       "</div>"
      ],
      "text/plain": [
       "                  id  player_fifa_api_id  player_api_id                 date  \\\n",
       "count   183978.00000       183978.000000  183978.000000               183978   \n",
       "unique           NaN                 NaN            NaN                  197   \n",
       "top              NaN                 NaN            NaN  2007-02-22 00:00:00   \n",
       "freq             NaN                 NaN            NaN                11794   \n",
       "mean     91989.50000       165671.524291  135900.617324                  NaN   \n",
       "std      53110.01825        53851.094769  136927.840510                  NaN   \n",
       "min          1.00000            2.000000    2625.000000                  NaN   \n",
       "25%      45995.25000       155798.000000   34763.000000                  NaN   \n",
       "50%      91989.50000       183488.000000   77741.000000                  NaN   \n",
       "75%     137983.75000       199848.000000  191080.000000                  NaN   \n",
       "max     183978.00000       234141.000000  750584.000000                  NaN   \n",
       "\n",
       "        overall_rating      potential preferred_foot attacking_work_rate  \\\n",
       "count    183142.000000  183142.000000         183142              180748   \n",
       "unique             NaN            NaN              2                   8   \n",
       "top                NaN            NaN          right              medium   \n",
       "freq               NaN            NaN         138409              125070   \n",
       "mean         68.600015      73.460353            NaN                 NaN   \n",
       "std           7.041139       6.592271            NaN                 NaN   \n",
       "min          33.000000      39.000000            NaN                 NaN   \n",
       "25%          64.000000      69.000000            NaN                 NaN   \n",
       "50%          69.000000      74.000000            NaN                 NaN   \n",
       "75%          73.000000      78.000000            NaN                 NaN   \n",
       "max          94.000000      97.000000            NaN                 NaN   \n",
       "\n",
       "       defensive_work_rate       crossing  ...         vision      penalties  \\\n",
       "count               183142  183142.000000  ...  181265.000000  183142.000000   \n",
       "unique                  19            NaN  ...            NaN            NaN   \n",
       "top                 medium            NaN  ...            NaN            NaN   \n",
       "freq                130846            NaN  ...            NaN            NaN   \n",
       "mean                   NaN      55.086883  ...      57.873550      55.003986   \n",
       "std                    NaN      17.242135  ...      15.144086      15.546519   \n",
       "min                    NaN       1.000000  ...       1.000000       2.000000   \n",
       "25%                    NaN      45.000000  ...      49.000000      45.000000   \n",
       "50%                    NaN      59.000000  ...      60.000000      57.000000   \n",
       "75%                    NaN      68.000000  ...      69.000000      67.000000   \n",
       "max                    NaN      95.000000  ...      97.000000      96.000000   \n",
       "\n",
       "              marking  standing_tackle  sliding_tackle      gk_diving  \\\n",
       "count   183142.000000    183142.000000   181265.000000  183142.000000   \n",
       "unique            NaN              NaN             NaN            NaN   \n",
       "top               NaN              NaN             NaN            NaN   \n",
       "freq              NaN              NaN             NaN            NaN   \n",
       "mean        46.772242        50.351257       48.001462      14.704393   \n",
       "std         21.227667        21.483706       21.598778      16.865467   \n",
       "min          1.000000         1.000000        2.000000       1.000000   \n",
       "25%         25.000000        29.000000       25.000000       7.000000   \n",
       "50%         50.000000        56.000000       53.000000      10.000000   \n",
       "75%         66.000000        69.000000       67.000000      13.000000   \n",
       "max         96.000000        95.000000       95.000000      94.000000   \n",
       "\n",
       "          gk_handling     gk_kicking  gk_positioning    gk_reflexes  \n",
       "count   183142.000000  183142.000000   183142.000000  183142.000000  \n",
       "unique            NaN            NaN             NaN            NaN  \n",
       "top               NaN            NaN             NaN            NaN  \n",
       "freq              NaN            NaN             NaN            NaN  \n",
       "mean        16.063612      20.998362       16.132154      16.441439  \n",
       "std         15.867382      21.452980       16.099175      17.198155  \n",
       "min          1.000000       1.000000        1.000000       1.000000  \n",
       "25%          8.000000       8.000000        8.000000       8.000000  \n",
       "50%         11.000000      12.000000       11.000000      11.000000  \n",
       "75%         15.000000      15.000000       15.000000      15.000000  \n",
       "max         93.000000      97.000000       96.000000      96.000000  \n",
       "\n",
       "[11 rows x 42 columns]"
      ]
     },
     "execution_count": 6,
     "metadata": {},
     "output_type": "execute_result"
    }
   ],
   "source": [
    "df.describe(include='all')"
   ]
  },
  {
   "cell_type": "code",
   "execution_count": 7,
   "metadata": {
    "ExecuteTime": {
     "end_time": "2018-09-25T11:54:12.253004Z",
     "start_time": "2018-09-25T11:54:12.241007Z"
    }
   },
   "outputs": [
    {
     "data": {
      "text/plain": [
       "(183978, 42)"
      ]
     },
     "execution_count": 7,
     "metadata": {},
     "output_type": "execute_result"
    }
   ],
   "source": [
    "# Shape of Dataset\n",
    "df.shape"
   ]
  },
  {
   "cell_type": "code",
   "execution_count": 8,
   "metadata": {
    "ExecuteTime": {
     "end_time": "2018-09-25T11:54:12.600932Z",
     "start_time": "2018-09-25T11:54:12.253004Z"
    }
   },
   "outputs": [
    {
     "data": {
      "text/plain": [
       "id                        0\n",
       "player_fifa_api_id        0\n",
       "player_api_id             0\n",
       "date                      0\n",
       "overall_rating          836\n",
       "potential               836\n",
       "preferred_foot          836\n",
       "attacking_work_rate    3230\n",
       "defensive_work_rate     836\n",
       "crossing                836\n",
       "finishing               836\n",
       "heading_accuracy        836\n",
       "short_passing           836\n",
       "volleys                2713\n",
       "dribbling               836\n",
       "curve                  2713\n",
       "free_kick_accuracy      836\n",
       "long_passing            836\n",
       "ball_control            836\n",
       "acceleration            836\n",
       "sprint_speed            836\n",
       "agility                2713\n",
       "reactions               836\n",
       "balance                2713\n",
       "shot_power              836\n",
       "jumping                2713\n",
       "stamina                 836\n",
       "strength                836\n",
       "long_shots              836\n",
       "aggression              836\n",
       "interceptions           836\n",
       "positioning             836\n",
       "vision                 2713\n",
       "penalties               836\n",
       "marking                 836\n",
       "standing_tackle         836\n",
       "sliding_tackle         2713\n",
       "gk_diving               836\n",
       "gk_handling             836\n",
       "gk_kicking              836\n",
       "gk_positioning          836\n",
       "gk_reflexes             836\n",
       "dtype: int64"
      ]
     },
     "execution_count": 8,
     "metadata": {},
     "output_type": "execute_result"
    }
   ],
   "source": [
    "# Check any Nan values\n",
    "df.isna().sum()"
   ]
  },
  {
   "cell_type": "code",
   "execution_count": 9,
   "metadata": {
    "ExecuteTime": {
     "end_time": "2018-09-25T11:54:13.180772Z",
     "start_time": "2018-09-25T11:54:12.604916Z"
    }
   },
   "outputs": [
    {
     "data": {
      "text/plain": [
       "False"
      ]
     },
     "execution_count": 9,
     "metadata": {},
     "output_type": "execute_result"
    }
   ],
   "source": [
    "# Check any duplicates in dataset\n",
    "df.duplicated().any()"
   ]
  },
  {
   "cell_type": "code",
   "execution_count": 10,
   "metadata": {
    "ExecuteTime": {
     "end_time": "2018-09-25T11:54:13.245089Z",
     "start_time": "2018-09-25T11:54:13.180772Z"
    }
   },
   "outputs": [],
   "source": [
    "# drop unwanted columns that are not required \n",
    "df = df.drop(['id','player_fifa_api_id','player_api_id','date'],axis=1)"
   ]
  },
  {
   "cell_type": "code",
   "execution_count": 11,
   "metadata": {
    "ExecuteTime": {
     "end_time": "2018-09-25T11:54:13.417045Z",
     "start_time": "2018-09-25T11:54:13.405032Z"
    }
   },
   "outputs": [
    {
     "data": {
      "text/plain": [
       "Index(['overall_rating', 'potential', 'preferred_foot', 'attacking_work_rate',\n",
       "       'defensive_work_rate', 'crossing', 'finishing', 'heading_accuracy',\n",
       "       'short_passing', 'volleys', 'dribbling', 'curve', 'free_kick_accuracy',\n",
       "       'long_passing', 'ball_control', 'acceleration', 'sprint_speed',\n",
       "       'agility', 'reactions', 'balance', 'shot_power', 'jumping', 'stamina',\n",
       "       'strength', 'long_shots', 'aggression', 'interceptions', 'positioning',\n",
       "       'vision', 'penalties', 'marking', 'standing_tackle', 'sliding_tackle',\n",
       "       'gk_diving', 'gk_handling', 'gk_kicking', 'gk_positioning',\n",
       "       'gk_reflexes'],\n",
       "      dtype='object')"
      ]
     },
     "execution_count": 11,
     "metadata": {},
     "output_type": "execute_result"
    }
   ],
   "source": [
    "df.columns"
   ]
  },
  {
   "cell_type": "code",
   "execution_count": 12,
   "metadata": {
    "ExecuteTime": {
     "end_time": "2018-09-25T11:54:14.353110Z",
     "start_time": "2018-09-25T11:54:13.960896Z"
    }
   },
   "outputs": [],
   "source": [
    "# drop Common Nan \n",
    "df.dropna(subset=['overall_rating', 'potential', 'preferred_foot', 'attacking_work_rate',\n",
    "       'defensive_work_rate', 'crossing', 'finishing', 'heading_accuracy',\n",
    "       'short_passing', 'volleys', 'dribbling', 'curve', 'free_kick_accuracy',\n",
    "       'long_passing', 'ball_control', 'acceleration', 'sprint_speed',\n",
    "       'agility', 'reactions', 'balance', 'shot_power', 'jumping', 'stamina',\n",
    "       'strength', 'long_shots', 'aggression', 'interceptions', 'positioning',\n",
    "       'vision', 'penalties', 'marking', 'standing_tackle', 'sliding_tackle',\n",
    "       'gk_diving', 'gk_handling', 'gk_kicking', 'gk_positioning',\n",
    "       'gk_reflexes'], how='all', inplace=True)"
   ]
  },
  {
   "cell_type": "code",
   "execution_count": 13,
   "metadata": {
    "ExecuteTime": {
     "end_time": "2018-09-25T11:54:14.673052Z",
     "start_time": "2018-09-25T11:54:14.429076Z"
    },
    "scrolled": false
   },
   "outputs": [
    {
     "data": {
      "text/plain": [
       "overall_rating            0\n",
       "potential                 0\n",
       "preferred_foot            0\n",
       "attacking_work_rate    2394\n",
       "defensive_work_rate       0\n",
       "crossing                  0\n",
       "finishing                 0\n",
       "heading_accuracy          0\n",
       "short_passing             0\n",
       "volleys                1877\n",
       "dribbling                 0\n",
       "curve                  1877\n",
       "free_kick_accuracy        0\n",
       "long_passing              0\n",
       "ball_control              0\n",
       "acceleration              0\n",
       "sprint_speed              0\n",
       "agility                1877\n",
       "reactions                 0\n",
       "balance                1877\n",
       "shot_power                0\n",
       "jumping                1877\n",
       "stamina                   0\n",
       "strength                  0\n",
       "long_shots                0\n",
       "aggression                0\n",
       "interceptions             0\n",
       "positioning               0\n",
       "vision                 1877\n",
       "penalties                 0\n",
       "marking                   0\n",
       "standing_tackle           0\n",
       "sliding_tackle         1877\n",
       "gk_diving                 0\n",
       "gk_handling               0\n",
       "gk_kicking                0\n",
       "gk_positioning            0\n",
       "gk_reflexes               0\n",
       "dtype: int64"
      ]
     },
     "execution_count": 13,
     "metadata": {},
     "output_type": "execute_result"
    }
   ],
   "source": [
    "df.isna().sum()"
   ]
  },
  {
   "cell_type": "code",
   "execution_count": 14,
   "metadata": {
    "ExecuteTime": {
     "end_time": "2018-09-25T11:54:15.036925Z",
     "start_time": "2018-09-25T11:54:14.960941Z"
    }
   },
   "outputs": [
    {
     "data": {
      "text/plain": [
       "medium    125070\n",
       "high       42823\n",
       "low         8569\n",
       "None        3639\n",
       "norm         348\n",
       "y            106\n",
       "le           104\n",
       "stoc          89\n",
       "Name: attacking_work_rate, dtype: int64"
      ]
     },
     "execution_count": 14,
     "metadata": {},
     "output_type": "execute_result"
    }
   ],
   "source": [
    "df['attacking_work_rate'].value_counts()"
   ]
  },
  {
   "cell_type": "code",
   "execution_count": 15,
   "metadata": {
    "ExecuteTime": {
     "end_time": "2018-09-25T11:54:15.557250Z",
     "start_time": "2018-09-25T11:54:15.517246Z"
    }
   },
   "outputs": [
    {
     "data": {
      "text/plain": [
       "array(['medium', 'high', None, 'low', 'None', 'le', 'norm', 'stoc', 'y'],\n",
       "      dtype=object)"
      ]
     },
     "execution_count": 15,
     "metadata": {},
     "output_type": "execute_result"
    }
   ],
   "source": [
    "df['attacking_work_rate'].unique()"
   ]
  },
  {
   "cell_type": "code",
   "execution_count": 16,
   "metadata": {
    "ExecuteTime": {
     "end_time": "2018-09-25T11:54:16.045127Z",
     "start_time": "2018-09-25T11:54:16.013119Z"
    }
   },
   "outputs": [],
   "source": [
    "# fill nan in df['attacking_work_rate']\n",
    "df['attacking_work_rate'].fillna(method='ffill',inplace=True,axis=0)"
   ]
  },
  {
   "cell_type": "code",
   "execution_count": 17,
   "metadata": {
    "ExecuteTime": {
     "end_time": "2018-09-25T11:54:16.565353Z",
     "start_time": "2018-09-25T11:54:16.489372Z"
    }
   },
   "outputs": [
    {
     "data": {
      "text/plain": [
       "medium    126858\n",
       "high       43214\n",
       "low         8659\n",
       "None        3742\n",
       "norm         360\n",
       "le           112\n",
       "y            108\n",
       "stoc          89\n",
       "Name: attacking_work_rate, dtype: int64"
      ]
     },
     "execution_count": 17,
     "metadata": {},
     "output_type": "execute_result"
    }
   ],
   "source": [
    "df['attacking_work_rate'].value_counts()"
   ]
  },
  {
   "cell_type": "code",
   "execution_count": 18,
   "metadata": {
    "ExecuteTime": {
     "end_time": "2018-09-25T11:54:16.989244Z",
     "start_time": "2018-09-25T11:54:16.961267Z"
    }
   },
   "outputs": [
    {
     "data": {
      "text/plain": [
       "array(['medium', 'high', 'low', 'None', 'le', 'norm', 'stoc', 'y'],\n",
       "      dtype=object)"
      ]
     },
     "execution_count": 18,
     "metadata": {},
     "output_type": "execute_result"
    }
   ],
   "source": [
    "df['attacking_work_rate'].unique()"
   ]
  },
  {
   "cell_type": "code",
   "execution_count": 19,
   "metadata": {
    "ExecuteTime": {
     "end_time": "2018-09-25T11:54:17.557534Z",
     "start_time": "2018-09-25T11:54:17.501547Z"
    }
   },
   "outputs": [
    {
     "data": {
      "text/html": [
       "<div>\n",
       "<style scoped>\n",
       "    .dataframe tbody tr th:only-of-type {\n",
       "        vertical-align: middle;\n",
       "    }\n",
       "\n",
       "    .dataframe tbody tr th {\n",
       "        vertical-align: top;\n",
       "    }\n",
       "\n",
       "    .dataframe thead th {\n",
       "        text-align: right;\n",
       "    }\n",
       "</style>\n",
       "<table border=\"1\" class=\"dataframe\">\n",
       "  <thead>\n",
       "    <tr style=\"text-align: right;\">\n",
       "      <th></th>\n",
       "      <th>attacking_work_rate_high</th>\n",
       "      <th>attacking_work_rate_le</th>\n",
       "      <th>attacking_work_rate_low</th>\n",
       "      <th>attacking_work_rate_medium</th>\n",
       "      <th>attacking_work_rate_norm</th>\n",
       "      <th>attacking_work_rate_stoc</th>\n",
       "      <th>attacking_work_rate_y</th>\n",
       "    </tr>\n",
       "  </thead>\n",
       "  <tbody>\n",
       "    <tr>\n",
       "      <th>0</th>\n",
       "      <td>0</td>\n",
       "      <td>0</td>\n",
       "      <td>0</td>\n",
       "      <td>1</td>\n",
       "      <td>0</td>\n",
       "      <td>0</td>\n",
       "      <td>0</td>\n",
       "    </tr>\n",
       "    <tr>\n",
       "      <th>1</th>\n",
       "      <td>0</td>\n",
       "      <td>0</td>\n",
       "      <td>0</td>\n",
       "      <td>1</td>\n",
       "      <td>0</td>\n",
       "      <td>0</td>\n",
       "      <td>0</td>\n",
       "    </tr>\n",
       "  </tbody>\n",
       "</table>\n",
       "</div>"
      ],
      "text/plain": [
       "   attacking_work_rate_high  attacking_work_rate_le  attacking_work_rate_low  \\\n",
       "0                         0                       0                        0   \n",
       "1                         0                       0                        0   \n",
       "\n",
       "   attacking_work_rate_medium  attacking_work_rate_norm  \\\n",
       "0                           1                         0   \n",
       "1                           1                         0   \n",
       "\n",
       "   attacking_work_rate_stoc  attacking_work_rate_y  \n",
       "0                         0                      0  \n",
       "1                         0                      0  "
      ]
     },
     "execution_count": 19,
     "metadata": {},
     "output_type": "execute_result"
    }
   ],
   "source": [
    "attacking_work_rate_dummies = pd.get_dummies(df['attacking_work_rate'],prefix='attacking_work_rate').iloc[:, 1:]\n",
    "attacking_work_rate_dummies.head(2)"
   ]
  },
  {
   "cell_type": "code",
   "execution_count": 20,
   "metadata": {
    "ExecuteTime": {
     "end_time": "2018-09-25T11:54:17.981427Z",
     "start_time": "2018-09-25T11:54:17.965432Z"
    }
   },
   "outputs": [
    {
     "data": {
      "text/plain": [
       "0"
      ]
     },
     "execution_count": 20,
     "metadata": {},
     "output_type": "execute_result"
    }
   ],
   "source": [
    "# fill nan in df['volleys']\n",
    "df['volleys'].fillna((df['volleys'].mean()), inplace=True)\n",
    "df['volleys'].isna().sum()"
   ]
  },
  {
   "cell_type": "code",
   "execution_count": 21,
   "metadata": {
    "ExecuteTime": {
     "end_time": "2018-09-25T11:54:18.377690Z",
     "start_time": "2018-09-25T11:54:18.361693Z"
    }
   },
   "outputs": [
    {
     "data": {
      "text/plain": [
       "0"
      ]
     },
     "execution_count": 21,
     "metadata": {},
     "output_type": "execute_result"
    }
   ],
   "source": [
    "# fill nan in df['curve']\n",
    "df['curve'].fillna((df['curve'].mean()), inplace=True)\n",
    "df['curve'].isna().sum()"
   ]
  },
  {
   "cell_type": "code",
   "execution_count": 22,
   "metadata": {
    "ExecuteTime": {
     "end_time": "2018-09-25T11:54:18.749595Z",
     "start_time": "2018-09-25T11:54:18.733599Z"
    }
   },
   "outputs": [
    {
     "data": {
      "text/plain": [
       "0"
      ]
     },
     "execution_count": 22,
     "metadata": {},
     "output_type": "execute_result"
    }
   ],
   "source": [
    "# fill nan in df['agility']\n",
    "df['agility'].fillna((df['agility'].mean()), inplace=True)\n",
    "df['agility'].isna().sum()"
   ]
  },
  {
   "cell_type": "code",
   "execution_count": 23,
   "metadata": {
    "ExecuteTime": {
     "end_time": "2018-09-25T11:54:19.169490Z",
     "start_time": "2018-09-25T11:54:19.153511Z"
    }
   },
   "outputs": [
    {
     "data": {
      "text/plain": [
       "0"
      ]
     },
     "execution_count": 23,
     "metadata": {},
     "output_type": "execute_result"
    }
   ],
   "source": [
    "# fill nan in df['balance']\n",
    "df['balance'].fillna((df['balance'].mean()), inplace=True)\n",
    "df['balance'].isna().sum()"
   ]
  },
  {
   "cell_type": "code",
   "execution_count": 24,
   "metadata": {
    "ExecuteTime": {
     "end_time": "2018-09-25T11:54:19.561710Z",
     "start_time": "2018-09-25T11:54:19.545697Z"
    }
   },
   "outputs": [
    {
     "data": {
      "text/plain": [
       "0"
      ]
     },
     "execution_count": 24,
     "metadata": {},
     "output_type": "execute_result"
    }
   ],
   "source": [
    "# fill nan in df['jumping']\n",
    "df['jumping'].fillna((df['jumping'].mean()), inplace=True)\n",
    "df['jumping'].isna().sum()"
   ]
  },
  {
   "cell_type": "code",
   "execution_count": 25,
   "metadata": {
    "ExecuteTime": {
     "end_time": "2018-09-25T11:54:19.917604Z",
     "start_time": "2018-09-25T11:54:19.901625Z"
    }
   },
   "outputs": [
    {
     "data": {
      "text/plain": [
       "0"
      ]
     },
     "execution_count": 25,
     "metadata": {},
     "output_type": "execute_result"
    }
   ],
   "source": [
    "# fill nan in df['vision']\n",
    "df['vision'].fillna((df['vision'].mean()), inplace=True)\n",
    "df['vision'].isna().sum()"
   ]
  },
  {
   "cell_type": "code",
   "execution_count": 26,
   "metadata": {
    "ExecuteTime": {
     "end_time": "2018-09-25T11:54:20.317781Z",
     "start_time": "2018-09-25T11:54:20.301784Z"
    }
   },
   "outputs": [
    {
     "data": {
      "text/plain": [
       "0"
      ]
     },
     "execution_count": 26,
     "metadata": {},
     "output_type": "execute_result"
    }
   ],
   "source": [
    "# fill nan in df['sliding_tackle']\n",
    "df['sliding_tackle'].fillna((df['sliding_tackle'].mean()), inplace=True)\n",
    "df['sliding_tackle'].isna().sum()"
   ]
  },
  {
   "cell_type": "code",
   "execution_count": 27,
   "metadata": {
    "ExecuteTime": {
     "end_time": "2018-09-25T11:54:20.709699Z",
     "start_time": "2018-09-25T11:54:20.693687Z"
    }
   },
   "outputs": [
    {
     "data": {
      "text/plain": [
       "array([67., 62., 61., 74., 73., 71., 70., 69., 68., 65., 64., 54., 51.,\n",
       "       52., 47., 53., 66., 59., 75., 72., 76., 78., 77., 79., 60., 80.,\n",
       "       81., 82., 84., 48., 63., 83., 55., 58., 50., 56., 49., 57., 42.,\n",
       "       46., 45., 85., 44., 86., 89., 87., 88., 91., 40., 90., 41., 43.,\n",
       "       38., 93., 92., 39., 33., 36., 37., 35., 94.])"
      ]
     },
     "execution_count": 27,
     "metadata": {},
     "output_type": "execute_result"
    }
   ],
   "source": [
    "df['overall_rating'].unique()"
   ]
  },
  {
   "cell_type": "code",
   "execution_count": 28,
   "metadata": {
    "ExecuteTime": {
     "end_time": "2018-09-25T11:54:21.477923Z",
     "start_time": "2018-09-25T11:54:21.225985Z"
    },
    "scrolled": false
   },
   "outputs": [
    {
     "name": "stdout",
     "output_type": "stream",
     "text": [
      "<class 'pandas.core.frame.DataFrame'>\n",
      "Int64Index: 183142 entries, 0 to 183977\n",
      "Data columns (total 38 columns):\n",
      "overall_rating         183142 non-null float64\n",
      "potential              183142 non-null float64\n",
      "preferred_foot         183142 non-null object\n",
      "attacking_work_rate    183142 non-null object\n",
      "defensive_work_rate    183142 non-null object\n",
      "crossing               183142 non-null float64\n",
      "finishing              183142 non-null float64\n",
      "heading_accuracy       183142 non-null float64\n",
      "short_passing          183142 non-null float64\n",
      "volleys                183142 non-null float64\n",
      "dribbling              183142 non-null float64\n",
      "curve                  183142 non-null float64\n",
      "free_kick_accuracy     183142 non-null float64\n",
      "long_passing           183142 non-null float64\n",
      "ball_control           183142 non-null float64\n",
      "acceleration           183142 non-null float64\n",
      "sprint_speed           183142 non-null float64\n",
      "agility                183142 non-null float64\n",
      "reactions              183142 non-null float64\n",
      "balance                183142 non-null float64\n",
      "shot_power             183142 non-null float64\n",
      "jumping                183142 non-null float64\n",
      "stamina                183142 non-null float64\n",
      "strength               183142 non-null float64\n",
      "long_shots             183142 non-null float64\n",
      "aggression             183142 non-null float64\n",
      "interceptions          183142 non-null float64\n",
      "positioning            183142 non-null float64\n",
      "vision                 183142 non-null float64\n",
      "penalties              183142 non-null float64\n",
      "marking                183142 non-null float64\n",
      "standing_tackle        183142 non-null float64\n",
      "sliding_tackle         183142 non-null float64\n",
      "gk_diving              183142 non-null float64\n",
      "gk_handling            183142 non-null float64\n",
      "gk_kicking             183142 non-null float64\n",
      "gk_positioning         183142 non-null float64\n",
      "gk_reflexes            183142 non-null float64\n",
      "dtypes: float64(35), object(3)\n",
      "memory usage: 54.5+ MB\n"
     ]
    }
   ],
   "source": [
    "df.info()"
   ]
  },
  {
   "cell_type": "code",
   "execution_count": 29,
   "metadata": {
    "ExecuteTime": {
     "end_time": "2018-09-25T11:54:22.694039Z",
     "start_time": "2018-09-25T11:54:22.654035Z"
    }
   },
   "outputs": [
    {
     "data": {
      "text/html": [
       "<div>\n",
       "<style scoped>\n",
       "    .dataframe tbody tr th:only-of-type {\n",
       "        vertical-align: middle;\n",
       "    }\n",
       "\n",
       "    .dataframe tbody tr th {\n",
       "        vertical-align: top;\n",
       "    }\n",
       "\n",
       "    .dataframe thead th {\n",
       "        text-align: right;\n",
       "    }\n",
       "</style>\n",
       "<table border=\"1\" class=\"dataframe\">\n",
       "  <thead>\n",
       "    <tr style=\"text-align: right;\">\n",
       "      <th></th>\n",
       "      <th>preferred_foot_left</th>\n",
       "      <th>preferred_foot_right</th>\n",
       "    </tr>\n",
       "  </thead>\n",
       "  <tbody>\n",
       "    <tr>\n",
       "      <th>0</th>\n",
       "      <td>0</td>\n",
       "      <td>1</td>\n",
       "    </tr>\n",
       "    <tr>\n",
       "      <th>1</th>\n",
       "      <td>0</td>\n",
       "      <td>1</td>\n",
       "    </tr>\n",
       "  </tbody>\n",
       "</table>\n",
       "</div>"
      ],
      "text/plain": [
       "   preferred_foot_left  preferred_foot_right\n",
       "0                    0                     1\n",
       "1                    0                     1"
      ]
     },
     "execution_count": 29,
     "metadata": {},
     "output_type": "execute_result"
    }
   ],
   "source": [
    "# creating dummies to object datatype dataset\n",
    "preferred_foot_dummies = pd.get_dummies(df['preferred_foot'],prefix='preferred_foot')\n",
    "preferred_foot_dummies.head(2)"
   ]
  },
  {
   "cell_type": "code",
   "execution_count": 30,
   "metadata": {
    "ExecuteTime": {
     "end_time": "2018-09-25T11:54:24.054038Z",
     "start_time": "2018-09-25T11:54:23.978058Z"
    }
   },
   "outputs": [
    {
     "data": {
      "text/plain": [
       "medium    130846\n",
       "high       27041\n",
       "low        18432\n",
       "_0          2394\n",
       "o           1550\n",
       "1            441\n",
       "ormal        348\n",
       "2            342\n",
       "3            258\n",
       "5            234\n",
       "7            217\n",
       "0            197\n",
       "6            197\n",
       "9            152\n",
       "4            116\n",
       "es           106\n",
       "ean          104\n",
       "tocky         89\n",
       "8             78\n",
       "Name: defensive_work_rate, dtype: int64"
      ]
     },
     "execution_count": 30,
     "metadata": {},
     "output_type": "execute_result"
    }
   ],
   "source": [
    "df['defensive_work_rate'].value_counts()"
   ]
  },
  {
   "cell_type": "code",
   "execution_count": 31,
   "metadata": {
    "ExecuteTime": {
     "end_time": "2018-09-25T11:54:24.669885Z",
     "start_time": "2018-09-25T11:54:24.605899Z"
    }
   },
   "outputs": [
    {
     "data": {
      "text/html": [
       "<div>\n",
       "<style scoped>\n",
       "    .dataframe tbody tr th:only-of-type {\n",
       "        vertical-align: middle;\n",
       "    }\n",
       "\n",
       "    .dataframe tbody tr th {\n",
       "        vertical-align: top;\n",
       "    }\n",
       "\n",
       "    .dataframe thead th {\n",
       "        text-align: right;\n",
       "    }\n",
       "</style>\n",
       "<table border=\"1\" class=\"dataframe\">\n",
       "  <thead>\n",
       "    <tr style=\"text-align: right;\">\n",
       "      <th></th>\n",
       "      <th>defensive_work_rate_1</th>\n",
       "      <th>defensive_work_rate_2</th>\n",
       "      <th>defensive_work_rate_3</th>\n",
       "      <th>defensive_work_rate_4</th>\n",
       "      <th>defensive_work_rate_5</th>\n",
       "      <th>defensive_work_rate_6</th>\n",
       "      <th>defensive_work_rate_7</th>\n",
       "      <th>defensive_work_rate_8</th>\n",
       "      <th>defensive_work_rate_9</th>\n",
       "      <th>defensive_work_rate__0</th>\n",
       "      <th>defensive_work_rate_ean</th>\n",
       "      <th>defensive_work_rate_es</th>\n",
       "      <th>defensive_work_rate_high</th>\n",
       "      <th>defensive_work_rate_low</th>\n",
       "      <th>defensive_work_rate_medium</th>\n",
       "      <th>defensive_work_rate_o</th>\n",
       "      <th>defensive_work_rate_ormal</th>\n",
       "      <th>defensive_work_rate_tocky</th>\n",
       "    </tr>\n",
       "  </thead>\n",
       "  <tbody>\n",
       "    <tr>\n",
       "      <th>0</th>\n",
       "      <td>0</td>\n",
       "      <td>0</td>\n",
       "      <td>0</td>\n",
       "      <td>0</td>\n",
       "      <td>0</td>\n",
       "      <td>0</td>\n",
       "      <td>0</td>\n",
       "      <td>0</td>\n",
       "      <td>0</td>\n",
       "      <td>0</td>\n",
       "      <td>0</td>\n",
       "      <td>0</td>\n",
       "      <td>0</td>\n",
       "      <td>0</td>\n",
       "      <td>1</td>\n",
       "      <td>0</td>\n",
       "      <td>0</td>\n",
       "      <td>0</td>\n",
       "    </tr>\n",
       "    <tr>\n",
       "      <th>1</th>\n",
       "      <td>0</td>\n",
       "      <td>0</td>\n",
       "      <td>0</td>\n",
       "      <td>0</td>\n",
       "      <td>0</td>\n",
       "      <td>0</td>\n",
       "      <td>0</td>\n",
       "      <td>0</td>\n",
       "      <td>0</td>\n",
       "      <td>0</td>\n",
       "      <td>0</td>\n",
       "      <td>0</td>\n",
       "      <td>0</td>\n",
       "      <td>0</td>\n",
       "      <td>1</td>\n",
       "      <td>0</td>\n",
       "      <td>0</td>\n",
       "      <td>0</td>\n",
       "    </tr>\n",
       "  </tbody>\n",
       "</table>\n",
       "</div>"
      ],
      "text/plain": [
       "   defensive_work_rate_1  defensive_work_rate_2  defensive_work_rate_3  \\\n",
       "0                      0                      0                      0   \n",
       "1                      0                      0                      0   \n",
       "\n",
       "   defensive_work_rate_4  defensive_work_rate_5  defensive_work_rate_6  \\\n",
       "0                      0                      0                      0   \n",
       "1                      0                      0                      0   \n",
       "\n",
       "   defensive_work_rate_7  defensive_work_rate_8  defensive_work_rate_9  \\\n",
       "0                      0                      0                      0   \n",
       "1                      0                      0                      0   \n",
       "\n",
       "   defensive_work_rate__0  defensive_work_rate_ean  defensive_work_rate_es  \\\n",
       "0                       0                        0                       0   \n",
       "1                       0                        0                       0   \n",
       "\n",
       "   defensive_work_rate_high  defensive_work_rate_low  \\\n",
       "0                         0                        0   \n",
       "1                         0                        0   \n",
       "\n",
       "   defensive_work_rate_medium  defensive_work_rate_o  \\\n",
       "0                           1                      0   \n",
       "1                           1                      0   \n",
       "\n",
       "   defensive_work_rate_ormal  defensive_work_rate_tocky  \n",
       "0                          0                          0  \n",
       "1                          0                          0  "
      ]
     },
     "execution_count": 31,
     "metadata": {},
     "output_type": "execute_result"
    }
   ],
   "source": [
    "defensive_work_rate_dummies = pd.get_dummies(df['defensive_work_rate'],prefix='defensive_work_rate').iloc[:, 1:]\n",
    "defensive_work_rate_dummies.head(2)"
   ]
  },
  {
   "cell_type": "code",
   "execution_count": 32,
   "metadata": {
    "ExecuteTime": {
     "end_time": "2018-09-25T11:54:25.481024Z",
     "start_time": "2018-09-25T11:54:25.437036Z"
    }
   },
   "outputs": [
    {
     "data": {
      "text/html": [
       "<div>\n",
       "<style scoped>\n",
       "    .dataframe tbody tr th:only-of-type {\n",
       "        vertical-align: middle;\n",
       "    }\n",
       "\n",
       "    .dataframe tbody tr th {\n",
       "        vertical-align: top;\n",
       "    }\n",
       "\n",
       "    .dataframe thead th {\n",
       "        text-align: right;\n",
       "    }\n",
       "</style>\n",
       "<table border=\"1\" class=\"dataframe\">\n",
       "  <thead>\n",
       "    <tr style=\"text-align: right;\">\n",
       "      <th></th>\n",
       "      <th>attacking_work_rate_high</th>\n",
       "      <th>attacking_work_rate_le</th>\n",
       "      <th>attacking_work_rate_low</th>\n",
       "      <th>attacking_work_rate_medium</th>\n",
       "      <th>attacking_work_rate_norm</th>\n",
       "      <th>attacking_work_rate_stoc</th>\n",
       "      <th>attacking_work_rate_y</th>\n",
       "    </tr>\n",
       "  </thead>\n",
       "  <tbody>\n",
       "    <tr>\n",
       "      <th>0</th>\n",
       "      <td>0</td>\n",
       "      <td>0</td>\n",
       "      <td>0</td>\n",
       "      <td>1</td>\n",
       "      <td>0</td>\n",
       "      <td>0</td>\n",
       "      <td>0</td>\n",
       "    </tr>\n",
       "    <tr>\n",
       "      <th>1</th>\n",
       "      <td>0</td>\n",
       "      <td>0</td>\n",
       "      <td>0</td>\n",
       "      <td>1</td>\n",
       "      <td>0</td>\n",
       "      <td>0</td>\n",
       "      <td>0</td>\n",
       "    </tr>\n",
       "  </tbody>\n",
       "</table>\n",
       "</div>"
      ],
      "text/plain": [
       "   attacking_work_rate_high  attacking_work_rate_le  attacking_work_rate_low  \\\n",
       "0                         0                       0                        0   \n",
       "1                         0                       0                        0   \n",
       "\n",
       "   attacking_work_rate_medium  attacking_work_rate_norm  \\\n",
       "0                           1                         0   \n",
       "1                           1                         0   \n",
       "\n",
       "   attacking_work_rate_stoc  attacking_work_rate_y  \n",
       "0                         0                      0  \n",
       "1                         0                      0  "
      ]
     },
     "execution_count": 32,
     "metadata": {},
     "output_type": "execute_result"
    }
   ],
   "source": [
    "attacking_work_rate_dummies = pd.get_dummies(df['attacking_work_rate'],prefix='attacking_work_rate').iloc[:, 1:]\n",
    "attacking_work_rate_dummies.head(2)"
   ]
  },
  {
   "cell_type": "code",
   "execution_count": null,
   "metadata": {},
   "outputs": [],
   "source": []
  },
  {
   "cell_type": "code",
   "execution_count": 33,
   "metadata": {
    "ExecuteTime": {
     "end_time": "2018-09-25T11:54:26.481169Z",
     "start_time": "2018-09-25T11:54:26.425180Z"
    }
   },
   "outputs": [],
   "source": [
    "df = df.drop(['preferred_foot','attacking_work_rate','defensive_work_rate'],axis=1)"
   ]
  },
  {
   "cell_type": "code",
   "execution_count": 34,
   "metadata": {
    "ExecuteTime": {
     "end_time": "2018-09-25T11:54:27.609390Z",
     "start_time": "2018-09-25T11:54:27.597392Z"
    }
   },
   "outputs": [
    {
     "data": {
      "text/plain": [
       "Index(['overall_rating', 'potential', 'crossing', 'finishing',\n",
       "       'heading_accuracy', 'short_passing', 'volleys', 'dribbling', 'curve',\n",
       "       'free_kick_accuracy', 'long_passing', 'ball_control', 'acceleration',\n",
       "       'sprint_speed', 'agility', 'reactions', 'balance', 'shot_power',\n",
       "       'jumping', 'stamina', 'strength', 'long_shots', 'aggression',\n",
       "       'interceptions', 'positioning', 'vision', 'penalties', 'marking',\n",
       "       'standing_tackle', 'sliding_tackle', 'gk_diving', 'gk_handling',\n",
       "       'gk_kicking', 'gk_positioning', 'gk_reflexes'],\n",
       "      dtype='object')"
      ]
     },
     "execution_count": 34,
     "metadata": {},
     "output_type": "execute_result"
    }
   ],
   "source": [
    "df.columns"
   ]
  },
  {
   "cell_type": "code",
   "execution_count": 35,
   "metadata": {
    "ExecuteTime": {
     "end_time": "2018-09-25T11:54:28.201241Z",
     "start_time": "2018-09-25T11:54:28.141270Z"
    }
   },
   "outputs": [],
   "source": [
    "df = pd.concat([df, attacking_work_rate_dummies,defensive_work_rate_dummies,preferred_foot_dummies], axis=1)"
   ]
  },
  {
   "cell_type": "code",
   "execution_count": 36,
   "metadata": {
    "ExecuteTime": {
     "end_time": "2018-09-25T11:54:29.177901Z",
     "start_time": "2018-09-25T11:54:29.161904Z"
    }
   },
   "outputs": [
    {
     "data": {
      "text/plain": [
       "array([67., 62., 61., 74., 73., 71., 70., 69., 68., 65., 64., 54., 51.,\n",
       "       52., 47., 53., 66., 59., 75., 72., 76., 78., 77., 79., 60., 80.,\n",
       "       81., 82., 84., 48., 63., 83., 55., 58., 50., 56., 49., 57., 42.,\n",
       "       46., 45., 85., 44., 86., 89., 87., 88., 91., 40., 90., 41., 43.,\n",
       "       38., 93., 92., 39., 33., 36., 37., 35., 94.])"
      ]
     },
     "execution_count": 36,
     "metadata": {},
     "output_type": "execute_result"
    }
   ],
   "source": [
    "df['overall_rating'].unique()"
   ]
  },
  {
   "cell_type": "code",
   "execution_count": 37,
   "metadata": {
    "ExecuteTime": {
     "end_time": "2018-09-25T11:54:30.266237Z",
     "start_time": "2018-09-25T11:54:29.670090Z"
    }
   },
   "outputs": [
    {
     "name": "stdout",
     "output_type": "stream",
     "text": [
      "<class 'pandas.core.frame.DataFrame'>\n",
      "Int64Index: 183142 entries, 0 to 183977\n",
      "Data columns (total 62 columns):\n",
      "overall_rating                183142 non-null float64\n",
      "potential                     183142 non-null float64\n",
      "crossing                      183142 non-null float64\n",
      "finishing                     183142 non-null float64\n",
      "heading_accuracy              183142 non-null float64\n",
      "short_passing                 183142 non-null float64\n",
      "volleys                       183142 non-null float64\n",
      "dribbling                     183142 non-null float64\n",
      "curve                         183142 non-null float64\n",
      "free_kick_accuracy            183142 non-null float64\n",
      "long_passing                  183142 non-null float64\n",
      "ball_control                  183142 non-null float64\n",
      "acceleration                  183142 non-null float64\n",
      "sprint_speed                  183142 non-null float64\n",
      "agility                       183142 non-null float64\n",
      "reactions                     183142 non-null float64\n",
      "balance                       183142 non-null float64\n",
      "shot_power                    183142 non-null float64\n",
      "jumping                       183142 non-null float64\n",
      "stamina                       183142 non-null float64\n",
      "strength                      183142 non-null float64\n",
      "long_shots                    183142 non-null float64\n",
      "aggression                    183142 non-null float64\n",
      "interceptions                 183142 non-null float64\n",
      "positioning                   183142 non-null float64\n",
      "vision                        183142 non-null float64\n",
      "penalties                     183142 non-null float64\n",
      "marking                       183142 non-null float64\n",
      "standing_tackle               183142 non-null float64\n",
      "sliding_tackle                183142 non-null float64\n",
      "gk_diving                     183142 non-null float64\n",
      "gk_handling                   183142 non-null float64\n",
      "gk_kicking                    183142 non-null float64\n",
      "gk_positioning                183142 non-null float64\n",
      "gk_reflexes                   183142 non-null float64\n",
      "attacking_work_rate_high      183142 non-null uint8\n",
      "attacking_work_rate_le        183142 non-null uint8\n",
      "attacking_work_rate_low       183142 non-null uint8\n",
      "attacking_work_rate_medium    183142 non-null uint8\n",
      "attacking_work_rate_norm      183142 non-null uint8\n",
      "attacking_work_rate_stoc      183142 non-null uint8\n",
      "attacking_work_rate_y         183142 non-null uint8\n",
      "defensive_work_rate_1         183142 non-null uint8\n",
      "defensive_work_rate_2         183142 non-null uint8\n",
      "defensive_work_rate_3         183142 non-null uint8\n",
      "defensive_work_rate_4         183142 non-null uint8\n",
      "defensive_work_rate_5         183142 non-null uint8\n",
      "defensive_work_rate_6         183142 non-null uint8\n",
      "defensive_work_rate_7         183142 non-null uint8\n",
      "defensive_work_rate_8         183142 non-null uint8\n",
      "defensive_work_rate_9         183142 non-null uint8\n",
      "defensive_work_rate__0        183142 non-null uint8\n",
      "defensive_work_rate_ean       183142 non-null uint8\n",
      "defensive_work_rate_es        183142 non-null uint8\n",
      "defensive_work_rate_high      183142 non-null uint8\n",
      "defensive_work_rate_low       183142 non-null uint8\n",
      "defensive_work_rate_medium    183142 non-null uint8\n",
      "defensive_work_rate_o         183142 non-null uint8\n",
      "defensive_work_rate_ormal     183142 non-null uint8\n",
      "defensive_work_rate_tocky     183142 non-null uint8\n",
      "preferred_foot_left           183142 non-null uint8\n",
      "preferred_foot_right          183142 non-null uint8\n",
      "dtypes: float64(35), uint8(27)\n",
      "memory usage: 55.0 MB\n"
     ]
    }
   ],
   "source": [
    "df.info()"
   ]
  },
  {
   "cell_type": "code",
   "execution_count": null,
   "metadata": {},
   "outputs": [],
   "source": []
  },
  {
   "cell_type": "code",
   "execution_count": 38,
   "metadata": {
    "ExecuteTime": {
     "end_time": "2018-09-25T11:54:31.326292Z",
     "start_time": "2018-09-25T11:54:30.994058Z"
    }
   },
   "outputs": [
    {
     "data": {
      "text/plain": [
       "False"
      ]
     },
     "execution_count": 38,
     "metadata": {},
     "output_type": "execute_result"
    }
   ],
   "source": [
    "df.isna().sum().any()"
   ]
  },
  {
   "cell_type": "code",
   "execution_count": 39,
   "metadata": {
    "ExecuteTime": {
     "end_time": "2018-09-25T11:54:31.598225Z",
     "start_time": "2018-09-25T11:54:31.594225Z"
    }
   },
   "outputs": [],
   "source": [
    "# Linear Regression"
   ]
  },
  {
   "cell_type": "code",
   "execution_count": 40,
   "metadata": {
    "ExecuteTime": {
     "end_time": "2018-09-25T12:05:43.449514Z",
     "start_time": "2018-09-25T12:05:43.441499Z"
    }
   },
   "outputs": [
    {
     "data": {
      "text/plain": [
       "Index(['overall_rating', 'potential', 'crossing', 'finishing',\n",
       "       'heading_accuracy', 'short_passing', 'volleys', 'dribbling', 'curve',\n",
       "       'free_kick_accuracy', 'long_passing', 'ball_control', 'acceleration',\n",
       "       'sprint_speed', 'agility', 'reactions', 'balance', 'shot_power',\n",
       "       'jumping', 'stamina', 'strength', 'long_shots', 'aggression',\n",
       "       'interceptions', 'positioning', 'vision', 'penalties', 'marking',\n",
       "       'standing_tackle', 'sliding_tackle', 'gk_diving', 'gk_handling',\n",
       "       'gk_kicking', 'gk_positioning', 'gk_reflexes',\n",
       "       'attacking_work_rate_high', 'attacking_work_rate_le',\n",
       "       'attacking_work_rate_low', 'attacking_work_rate_medium',\n",
       "       'attacking_work_rate_norm', 'attacking_work_rate_stoc',\n",
       "       'attacking_work_rate_y', 'defensive_work_rate_1',\n",
       "       'defensive_work_rate_2', 'defensive_work_rate_3',\n",
       "       'defensive_work_rate_4', 'defensive_work_rate_5',\n",
       "       'defensive_work_rate_6', 'defensive_work_rate_7',\n",
       "       'defensive_work_rate_8', 'defensive_work_rate_9',\n",
       "       'defensive_work_rate__0', 'defensive_work_rate_ean',\n",
       "       'defensive_work_rate_es', 'defensive_work_rate_high',\n",
       "       'defensive_work_rate_low', 'defensive_work_rate_medium',\n",
       "       'defensive_work_rate_o', 'defensive_work_rate_ormal',\n",
       "       'defensive_work_rate_tocky', 'preferred_foot_left',\n",
       "       'preferred_foot_right'],\n",
       "      dtype='object')"
      ]
     },
     "execution_count": 40,
     "metadata": {},
     "output_type": "execute_result"
    }
   ],
   "source": [
    "df.columns"
   ]
  },
  {
   "cell_type": "code",
   "execution_count": 41,
   "metadata": {
    "ExecuteTime": {
     "end_time": "2018-09-25T12:05:44.997514Z",
     "start_time": "2018-09-25T12:05:44.113332Z"
    }
   },
   "outputs": [
    {
     "name": "stdout",
     "output_type": "stream",
     "text": [
      "[ 3.77059829e-01  2.25952914e-02  1.19351580e-02  6.88129908e-02\n",
      "  5.15594629e-02  2.24908131e-03 -1.02573318e-02  1.14278721e-02\n",
      "  1.36905267e-02  6.48421797e-03  1.33399121e-01  5.52663899e-03\n",
      "  1.12996565e-02 -8.68253969e-03  2.06351354e-01  6.78723843e-03\n",
      "  1.63197296e-02  1.57401383e-02 -2.90656302e-03  5.92166589e-02\n",
      " -1.29720402e-02  1.94822450e-02  1.24124837e-02 -8.01202945e-03\n",
      " -2.64466975e-03  1.31338481e-02  3.24888910e-02  4.74099853e-03\n",
      " -2.84464485e-02  1.67955288e-01  3.29503465e-02 -3.32504207e-02\n",
      "  5.68373137e-02  2.44222459e-02  3.12921753e-01 -6.34923330e+00\n",
      "  1.54824776e+00  2.21318875e-01  1.82429541e+00 -6.15228653e-01\n",
      " -3.75947588e+00  4.69178540e-01 -3.66965761e-01  4.85870059e-01\n",
      " -5.47767236e-01 -3.09181575e-01  1.20702703e-01  6.46647622e-01\n",
      "  8.43315725e-01  4.76661100e-01 -5.61010058e-01  5.48415476e+00\n",
      "  3.73592292e+00  3.28419251e-02  4.44178053e-01 -2.30197011e-01\n",
      "  5.73597900e-02 -1.83974630e+00 -6.15228653e-01  5.98976281e-05\n",
      " -5.98976281e-05]\n",
      "-3.67917290597687\n",
      "0.8439915012236183\n"
     ]
    }
   ],
   "source": [
    "from sklearn.linear_model import LinearRegression\n",
    "lm = LinearRegression()\n",
    "df_new = ['potential', 'crossing', 'finishing',\n",
    "       'heading_accuracy', 'short_passing', 'volleys', 'dribbling', 'curve',\n",
    "       'free_kick_accuracy', 'long_passing', 'ball_control', 'acceleration',\n",
    "       'sprint_speed', 'agility', 'reactions', 'balance', 'shot_power',\n",
    "       'jumping', 'stamina', 'strength', 'long_shots', 'aggression',\n",
    "       'interceptions', 'positioning', 'vision', 'penalties', 'marking',\n",
    "       'standing_tackle', 'sliding_tackle', 'gk_diving', 'gk_handling',\n",
    "       'gk_kicking', 'gk_positioning', 'gk_reflexes',\n",
    "       'attacking_work_rate_high', 'attacking_work_rate_le',\n",
    "       'attacking_work_rate_low', 'attacking_work_rate_medium',\n",
    "       'attacking_work_rate_norm', 'attacking_work_rate_stoc',\n",
    "       'attacking_work_rate_y', 'defensive_work_rate_1',\n",
    "       'defensive_work_rate_2', 'defensive_work_rate_3',\n",
    "       'defensive_work_rate_4', 'defensive_work_rate_5',\n",
    "       'defensive_work_rate_6', 'defensive_work_rate_7',\n",
    "       'defensive_work_rate_8', 'defensive_work_rate_9',\n",
    "       'defensive_work_rate__0', 'defensive_work_rate_ean',\n",
    "       'defensive_work_rate_es', 'defensive_work_rate_high',\n",
    "       'defensive_work_rate_low', 'defensive_work_rate_medium',\n",
    "       'defensive_work_rate_o', 'defensive_work_rate_ormal',\n",
    "       'defensive_work_rate_tocky', 'preferred_foot_right','preferred_foot_left']\n",
    "df_new2 = df[df_new]\n",
    "new_y = df['overall_rating']\n",
    "\n",
    "lm.fit(df_new2,new_y)\n",
    "print(lm.coef_)\n",
    "print(lm.intercept_)\n",
    "print(lm.score(df_new2,new_y))\n",
    "#print(lm.summary)"
   ]
  },
  {
   "cell_type": "code",
   "execution_count": 42,
   "metadata": {
    "ExecuteTime": {
     "end_time": "2018-09-25T12:05:49.807950Z",
     "start_time": "2018-09-25T12:05:47.157656Z"
    },
    "scrolled": false
   },
   "outputs": [
    {
     "name": "stdout",
     "output_type": "stream",
     "text": [
      "                                   0         1\n",
      "Intercept                  -2.739906 -2.165658\n",
      "potential                   0.374226  0.379894\n",
      "crossing                    0.020957  0.024233\n",
      "finishing                   0.010156  0.013715\n",
      "heading_accuracy            0.067228  0.070398\n",
      "short_passing               0.048897  0.054222\n",
      "volleys                     0.000658  0.003840\n",
      "dribbling                  -0.012513 -0.008002\n",
      "curve                       0.009876  0.012980\n",
      "free_kick_accuracy          0.012316  0.015065\n",
      "long_passing                0.004667  0.008302\n",
      "ball_control                0.130334  0.136464\n",
      "acceleration                0.002847  0.008207\n",
      "sprint_speed                0.008756  0.013844\n",
      "agility                    -0.010655 -0.006710\n",
      "reactions                   0.204252  0.208450\n",
      "balance                     0.005262  0.008313\n",
      "shot_power                  0.014620  0.018019\n",
      "jumping                     0.014318  0.017163\n",
      "stamina                    -0.004509 -0.001304\n",
      "strength                    0.057585  0.060849\n",
      "long_shots                 -0.014743 -0.011201\n",
      "aggression                  0.018145  0.020820\n",
      "interceptions               0.010991  0.013834\n",
      "positioning                -0.009545 -0.006479\n",
      "vision                     -0.004341 -0.000949\n",
      "penalties                   0.011678  0.014590\n",
      "marking                     0.030327  0.034650\n",
      "standing_tackle             0.002264  0.007218\n",
      "sliding_tackle             -0.030499 -0.026394\n",
      "...                              ...       ...\n",
      "gk_kicking                 -0.034454 -0.032047\n",
      "gk_positioning              0.053118  0.060557\n",
      "gk_reflexes                 0.020774  0.028070\n",
      "attacking_work_rate_high    0.069097  0.556747\n",
      "attacking_work_rate_le     -8.296536 -4.401930\n",
      "attacking_work_rate_low     1.299322  1.797174\n",
      "attacking_work_rate_medium -0.021150  0.463787\n",
      "attacking_work_rate_norm    0.228543  3.420048\n",
      "attacking_work_rate_stoc   -0.963987 -0.266470\n",
      "attacking_work_rate_y      -7.624775  0.105824\n",
      "defensive_work_rate_1       0.001451  0.936906\n",
      "defensive_work_rate_2      -0.856644  0.122712\n",
      "defensive_work_rate_3      -0.030478  1.002218\n",
      "defensive_work_rate_4      -1.187147  0.091613\n",
      "defensive_work_rate_5      -0.836918  0.218555\n",
      "defensive_work_rate_6      -0.429793  0.671198\n",
      "defensive_work_rate_7       0.109485  1.183810\n",
      "defensive_work_rate_8       0.112970  1.573661\n",
      "defensive_work_rate_9      -0.112705  1.066027\n",
      "defensive_work_rate__0     -1.016019 -0.106001\n",
      "defensive_work_rate_ean     3.429910  7.538399\n",
      "defensive_work_rate_es     -0.183849  7.655695\n",
      "defensive_work_rate_high   -0.413942  0.479626\n",
      "defensive_work_rate_low    -0.003661  0.892017\n",
      "defensive_work_rate_medium -0.675992  0.215598\n",
      "defensive_work_rate_o      -0.356662  0.471381\n",
      "defensive_work_rate_ormal  -3.504818 -0.174675\n",
      "defensive_work_rate_tocky  -0.963987 -0.266470\n",
      "preferred_foot_right       -1.370509 -1.082154\n",
      "preferred_foot_left        -1.371051 -1.081851\n",
      "\n",
      "[62 rows x 2 columns]\n",
      "                            OLS Regression Results                            \n",
      "==============================================================================\n",
      "Dep. Variable:         overall_rating   R-squared:                       0.844\n",
      "Model:                            OLS   Adj. R-squared:                  0.844\n",
      "Method:                 Least Squares   F-statistic:                 1.679e+04\n",
      "Date:                Sun, 21 Apr 2019   Prob (F-statistic):               0.00\n",
      "Time:                        21:15:35   Log-Likelihood:            -4.4719e+05\n",
      "No. Observations:              183142   AIC:                         8.945e+05\n",
      "Df Residuals:                  183082   BIC:                         8.951e+05\n",
      "Df Model:                          59                                         \n",
      "Covariance Type:            nonrobust                                         \n",
      "==============================================================================================\n",
      "                                 coef    std err          t      P>|t|      [0.025      0.975]\n",
      "----------------------------------------------------------------------------------------------\n",
      "Intercept                     -2.4528      0.146    -16.743      0.000      -2.740      -2.166\n",
      "potential                      0.3771      0.001    260.754      0.000       0.374       0.380\n",
      "crossing                       0.0226      0.001     27.036      0.000       0.021       0.024\n",
      "finishing                      0.0119      0.001     13.146      0.000       0.010       0.014\n",
      "heading_accuracy               0.0688      0.001     85.110      0.000       0.067       0.070\n",
      "short_passing                  0.0516      0.001     37.957      0.000       0.049       0.054\n",
      "volleys                        0.0022      0.001      2.770      0.006       0.001       0.004\n",
      "dribbling                     -0.0103      0.001     -8.913      0.000      -0.013      -0.008\n",
      "curve                          0.0114      0.001     14.432      0.000       0.010       0.013\n",
      "free_kick_accuracy             0.0137      0.001     19.521      0.000       0.012       0.015\n",
      "long_passing                   0.0065      0.001      6.993      0.000       0.005       0.008\n",
      "ball_control                   0.1334      0.002     85.315      0.000       0.130       0.136\n",
      "acceleration                   0.0055      0.001      4.042      0.000       0.003       0.008\n",
      "sprint_speed                   0.0113      0.001      8.706      0.000       0.009       0.014\n",
      "agility                       -0.0087      0.001     -8.629      0.000      -0.011      -0.007\n",
      "reactions                      0.2064      0.001    192.684      0.000       0.204       0.208\n",
      "balance                        0.0068      0.001      8.721      0.000       0.005       0.008\n",
      "shot_power                     0.0163      0.001     18.822      0.000       0.015       0.018\n",
      "jumping                        0.0157      0.001     21.688      0.000       0.014       0.017\n",
      "stamina                       -0.0029      0.001     -3.556      0.000      -0.005      -0.001\n",
      "strength                       0.0592      0.001     71.123      0.000       0.058       0.061\n",
      "long_shots                    -0.0130      0.001    -14.356      0.000      -0.015      -0.011\n",
      "aggression                     0.0195      0.001     28.545      0.000       0.018       0.021\n",
      "interceptions                  0.0124      0.001     17.113      0.000       0.011       0.014\n",
      "positioning                   -0.0080      0.001    -10.242      0.000      -0.010      -0.006\n",
      "vision                        -0.0026      0.001     -3.056      0.002      -0.004      -0.001\n",
      "penalties                      0.0131      0.001     17.683      0.000       0.012       0.015\n",
      "marking                        0.0325      0.001     29.461      0.000       0.030       0.035\n",
      "standing_tackle                0.0047      0.001      3.752      0.000       0.002       0.007\n",
      "sliding_tackle                -0.0284      0.001    -27.169      0.000      -0.030      -0.026\n",
      "gk_diving                      0.1680      0.001    116.417      0.000       0.165       0.171\n",
      "gk_handling                    0.0330      0.002     17.261      0.000       0.029       0.037\n",
      "gk_kicking                    -0.0333      0.001    -54.169      0.000      -0.034      -0.032\n",
      "gk_positioning                 0.0568      0.002     29.949      0.000       0.053       0.061\n",
      "gk_reflexes                    0.0244      0.002     13.121      0.000       0.021       0.028\n",
      "attacking_work_rate_high       0.3129      0.124      2.515      0.012       0.069       0.557\n",
      "attacking_work_rate_le        -6.3492      0.994     -6.391      0.000      -8.297      -4.402\n",
      "attacking_work_rate_low        1.5482      0.127     12.190      0.000       1.299       1.797\n",
      "attacking_work_rate_medium     0.2213      0.124      1.789      0.074      -0.021       0.464\n",
      "attacking_work_rate_norm       1.8243      0.814      2.241      0.025       0.229       3.420\n",
      "attacking_work_rate_stoc      -0.6152      0.178     -3.458      0.001      -0.964      -0.266\n",
      "attacking_work_rate_y         -3.7595      1.972     -1.906      0.057      -7.625       0.106\n",
      "defensive_work_rate_1          0.4692      0.239      1.966      0.049       0.001       0.937\n",
      "defensive_work_rate_2         -0.3670      0.250     -1.469      0.142      -0.857       0.123\n",
      "defensive_work_rate_3          0.4859      0.263      1.844      0.065      -0.030       1.002\n",
      "defensive_work_rate_4         -0.5478      0.326     -1.679      0.093      -1.187       0.092\n",
      "defensive_work_rate_5         -0.3092      0.269     -1.148      0.251      -0.837       0.219\n",
      "defensive_work_rate_6          0.1207      0.281      0.430      0.667      -0.430       0.671\n",
      "defensive_work_rate_7          0.6466      0.274      2.359      0.018       0.109       1.184\n",
      "defensive_work_rate_8          0.8433      0.373      2.263      0.024       0.113       1.574\n",
      "defensive_work_rate_9          0.4767      0.301      1.585      0.113      -0.113       1.066\n",
      "defensive_work_rate__0        -0.5610      0.232     -2.417      0.016      -1.016      -0.106\n",
      "defensive_work_rate_ean        5.4842      1.048      5.232      0.000       3.430       7.538\n",
      "defensive_work_rate_es         3.7359      2.000      1.868      0.062      -0.184       7.656\n",
      "defensive_work_rate_high       0.0328      0.228      0.144      0.885      -0.414       0.480\n",
      "defensive_work_rate_low        0.4442      0.228      1.944      0.052      -0.004       0.892\n",
      "defensive_work_rate_medium    -0.2302      0.227     -1.012      0.312      -0.676       0.216\n",
      "defensive_work_rate_o          0.0574      0.211      0.272      0.786      -0.357       0.471\n",
      "defensive_work_rate_ormal     -1.8397      0.850     -2.166      0.030      -3.505      -0.175\n",
      "defensive_work_rate_tocky     -0.6152      0.178     -3.458      0.001      -0.964      -0.266\n",
      "preferred_foot_right          -1.2263      0.074    -16.671      0.000      -1.371      -1.082\n",
      "preferred_foot_left           -1.2265      0.074    -16.624      0.000      -1.371      -1.082\n",
      "==============================================================================\n",
      "Omnibus:                     7652.540   Durbin-Watson:                   0.382\n",
      "Prob(Omnibus):                  0.000   Jarque-Bera (JB):            17441.880\n",
      "Skew:                          -0.262   Prob(JB):                         0.00\n",
      "Kurtosis:                       4.418   Cond. No.                     1.01e+16\n",
      "==============================================================================\n",
      "\n",
      "Warnings:\n",
      "[1] Standard Errors assume that the covariance matrix of the errors is correctly specified.\n",
      "[2] The smallest eigenvalue is 1.89e-22. This might indicate that there are\n",
      "strong multicollinearity problems or that the design matrix is singular.\n"
     ]
    }
   ],
   "source": [
    "import statsmodels.formula.api as smf\n",
    "lm = smf.ols(formula='overall_rating ~ potential+crossing+finishing+heading_accuracy+short_passing+volleys\\\n",
    "         +dribbling+curve+free_kick_accuracy+long_passing+ball_control+acceleration+sprint_speed+agility\\\n",
    "         +reactions+balance+shot_power+jumping+stamina+strength+long_shots+aggression+interceptions+positioning\\\n",
    "         +vision+penalties+marking+standing_tackle+sliding_tackle+gk_diving+gk_handling+gk_kicking+gk_positioning\\\n",
    "         +gk_reflexes+attacking_work_rate_high+attacking_work_rate_le+attacking_work_rate_low+attacking_work_rate_medium\\\n",
    "         +attacking_work_rate_norm+attacking_work_rate_stoc+attacking_work_rate_y+defensive_work_rate_1\\\n",
    "         +defensive_work_rate_2+defensive_work_rate_3+defensive_work_rate_4+defensive_work_rate_5+defensive_work_rate_6\\\n",
    "         +defensive_work_rate_7+defensive_work_rate_8+defensive_work_rate_9+defensive_work_rate__0\\\n",
    "         +defensive_work_rate_ean+defensive_work_rate_es+defensive_work_rate_high+defensive_work_rate_low\\\n",
    "         +defensive_work_rate_medium+defensive_work_rate_o+defensive_work_rate_ormal+defensive_work_rate_tocky\\\n",
    "         +preferred_foot_right+preferred_foot_left',data=df).fit()\n",
    "print(lm.conf_int())\n",
    "print(lm.summary())"
   ]
  },
  {
   "cell_type": "markdown",
   "metadata": {},
   "source": [
    "#### Model Evaluation Using a Validation Set"
   ]
  },
  {
   "cell_type": "code",
   "execution_count": 43,
   "metadata": {
    "ExecuteTime": {
     "end_time": "2018-09-25T12:05:58.949046Z",
     "start_time": "2018-09-25T12:05:58.893060Z"
    }
   },
   "outputs": [],
   "source": [
    "y = df['overall_rating']\n",
    "x = df.drop(['overall_rating'],axis=1)"
   ]
  },
  {
   "cell_type": "code",
   "execution_count": 44,
   "metadata": {
    "ExecuteTime": {
     "end_time": "2018-09-25T12:05:59.689257Z",
     "start_time": "2018-09-25T12:05:59.549240Z"
    }
   },
   "outputs": [],
   "source": [
    "# evaluate the model by splitting into train and test sets\n",
    "x_train, x_test, y_train, y_test = train_test_split(x, y, test_size=0.3, random_state=0)"
   ]
  },
  {
   "cell_type": "code",
   "execution_count": 45,
   "metadata": {
    "ExecuteTime": {
     "end_time": "2018-09-25T12:06:01.650593Z",
     "start_time": "2018-09-25T12:06:01.638591Z"
    }
   },
   "outputs": [
    {
     "data": {
      "text/plain": [
       "((128199, 61), (54943, 61), (54943,), (54943,))"
      ]
     },
     "execution_count": 45,
     "metadata": {},
     "output_type": "execute_result"
    }
   ],
   "source": [
    "x_train.shape, x_test.shape, y_test.shape, y_test.shape"
   ]
  },
  {
   "cell_type": "code",
   "execution_count": 46,
   "metadata": {
    "ExecuteTime": {
     "end_time": "2018-09-25T12:06:02.890277Z",
     "start_time": "2018-09-25T12:06:02.346417Z"
    }
   },
   "outputs": [
    {
     "data": {
      "text/plain": [
       "LinearRegression(copy_X=True, fit_intercept=True, n_jobs=1, normalize=False)"
      ]
     },
     "execution_count": 46,
     "metadata": {},
     "output_type": "execute_result"
    }
   ],
   "source": [
    "model2 = LinearRegression()\n",
    "model2.fit(x_train, y_train)"
   ]
  },
  {
   "cell_type": "code",
   "execution_count": 47,
   "metadata": {
    "ExecuteTime": {
     "end_time": "2018-09-25T12:06:02.946264Z",
     "start_time": "2018-09-25T12:06:02.890277Z"
    }
   },
   "outputs": [
    {
     "data": {
      "text/plain": [
       "array([74.60663865, 52.17614341, 80.92024212, ..., 73.89922724,\n",
       "       70.71023893, 69.67020058])"
      ]
     },
     "execution_count": 47,
     "metadata": {},
     "output_type": "execute_result"
    }
   ],
   "source": [
    "# predict class labels for the test set\n",
    "predicted = model2.predict(x_test)\n",
    "predicted"
   ]
  },
  {
   "cell_type": "code",
   "execution_count": 48,
   "metadata": {
    "ExecuteTime": {
     "end_time": "2018-09-25T12:06:03.647263Z",
     "start_time": "2018-09-25T12:06:03.603275Z"
    }
   },
   "outputs": [
    {
     "data": {
      "text/plain": [
       "0.8429083123335541"
      ]
     },
     "execution_count": 48,
     "metadata": {},
     "output_type": "execute_result"
    }
   ],
   "source": [
    "model2.score(x_test,y_test)"
   ]
  },
  {
   "cell_type": "markdown",
   "metadata": {},
   "source": [
    "84.29% Accuracy"
   ]
  },
  {
   "cell_type": "markdown",
   "metadata": {},
   "source": [
    "#### Model Evaluation Using Cross-Validation"
   ]
  },
  {
   "cell_type": "code",
   "execution_count": 49,
   "metadata": {
    "ExecuteTime": {
     "end_time": "2018-09-25T12:06:14.035976Z",
     "start_time": "2018-09-25T12:06:07.327456Z"
    }
   },
   "outputs": [
    {
     "data": {
      "text/plain": [
       "(array([0.8487039 , 0.84344208, 0.83602098, 0.83913371, 0.84384047,\n",
       "        0.840643  , 0.85003238, 0.83501933, 0.84376912, 0.84633602]),\n",
       " 0.8426940991015297)"
      ]
     },
     "execution_count": 49,
     "metadata": {},
     "output_type": "execute_result"
    }
   ],
   "source": [
    "# evaluate the model using 10-fold cross-validation\n",
    "from sklearn.model_selection import cross_val_score\n",
    "scores = cross_val_score(LinearRegression(), x, y, cv=10)\n",
    "scores, scores.mean()"
   ]
  },
  {
   "cell_type": "markdown",
   "metadata": {},
   "source": [
    "84.26% Accuracy"
   ]
  },
  {
   "cell_type": "markdown",
   "metadata": {},
   "source": [
    "In all 3 model evaluation, accuracy is around 84% which means data is neither overfit and accuracy seems decent."
   ]
  },
  {
   "cell_type": "code",
   "execution_count": null,
   "metadata": {},
   "outputs": [],
   "source": []
  }
 ],
 "metadata": {
  "kernelspec": {
   "display_name": "Python 3",
   "language": "python",
   "name": "python3"
  },
  "language_info": {
   "codemirror_mode": {
    "name": "ipython",
    "version": 3
   },
   "file_extension": ".py",
   "mimetype": "text/x-python",
   "name": "python",
   "nbconvert_exporter": "python",
   "pygments_lexer": "ipython3",
   "version": "3.7.0"
  }
 },
 "nbformat": 4,
 "nbformat_minor": 2
}
